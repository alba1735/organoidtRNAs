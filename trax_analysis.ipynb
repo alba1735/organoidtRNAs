{
 "cells": [
  {
   "cell_type": "code",
   "execution_count": null,
   "metadata": {},
   "outputs": [],
   "source": [
    "import pandas as pd\n",
    "import os\n",
    "\n",
    "# Configure the number of CPU cores to use\n",
    "import multiprocessing\n",
    "try:\n",
    "    # This is a linux only function but is less likely to cause problems than multiprocessing.cpu_count()\n",
    "    cpuThreads = len(os.sched_getaffinity(0))\n",
    "except:\n",
    "    cpuThreads = multiprocessing.cpu_count()"
   ]
  },
  {
   "cell_type": "markdown",
   "metadata": {},
   "source": [
    "# 1. Create the hg38 RNAdb for tRAX\n",
    "\n",
    "In this notebook, we will create the RNAdb for tRAX. We will use GRCh38.p14/hg38 as the reference genome with the following files."
   ]
  },
  {
   "cell_type": "code",
   "execution_count": null,
   "metadata": {},
   "outputs": [],
   "source": [
    "gtRNAdb_URL=\"http://gtrnadb.ucsc.edu/GtRNAdb2/genomes/eukaryota/Hsapi38/hg38-tRNAs.tar.gz\"\n",
    "genome_URL=\"http://hgdownload.soe.ucsc.edu/goldenPath/hg38/bigZips/p14/hg38.p14.fa.gz\"\n",
    "\n",
    "if 'hg38.p14.fa' not in os.listdir('../rnadb'):\n",
    "    # Make directory for the RNAdb\n",
    "    print(\"Downloading the genome and tRNAdb files\")\n",
    "    os.makedirs(\"../rnadb\", exist_ok=True)\n",
    "    # Download the gtRNAdb files\n",
    "    os.system(f\"wget -q -O ../rnadb/tse.tar.gz {gtRNAdb_URL}\")\n",
    "    os.system(\"tar xzf ../rnadb/tse.tar.gz -C ../rnadb\")\n",
    "    os.system(\"rm ../rnadb/tse.tar.gz\")\n",
    "    # Download the genome\n",
    "    os.system(f\"wget -q -O - {genome_URL} | gzip -cd > ../rnadb/hg38.p14.fa\")\n",
    "else:\n",
    "    print(\"Genome and tRNAdb files already exist\")\n",
    "\n",
    "if 'hg38.p14-tRNAgenome.1.bt2l' not in os.listdir('../rnadb'):\n",
    "    # Create the tRNAdb\n",
    "    print(\"Creating the tRNAdb\")\n",
    "    os.system(\"../tRAX/maketrnadb.py \\\n",
    "            --databasename='../rnadb/hg38.p14' \\\n",
    "            --genomefile='../rnadb/hg38.p14.fa' \\\n",
    "            --trnascanfile='../rnadb/hg38-tRNAs-detailed.out' \\\n",
    "            --namemapfile='../rnadb/hg38-tRNAs_name_map.txt' \\\n",
    "            > ../rnadb/maketrnadb.log\")\n",
    "    print(\"Done\")\n",
    "else:\n",
    "    print(\"tRNAdb already exists\")"
   ]
  },
  {
   "cell_type": "markdown",
   "metadata": {},
   "source": [
    "# 2. Trim the raw fastq reads\n",
    "\n",
    "The reads are trimmed and merged using the `SeqPrep` as described in the tRAX. This done by calling the `trimadapters.py` script in tRAX, with raw reads located in `rnaseq/fastq_raw` and the trimmed reads located in `rnaseq/fastq_processed`."
   ]
  },
  {
   "cell_type": "code",
   "execution_count": null,
   "metadata": {},
   "outputs": [],
   "source": [
    "df_run = pd.read_csv('config/runfile.tsv', sep='\\t', header=None)\n",
    "df_run.columns = ['fastq_output', 'Read 1', 'Read 2']\n",
    "df_run"
   ]
  },
  {
   "cell_type": "code",
   "execution_count": null,
   "metadata": {},
   "outputs": [],
   "source": [
    "# Run the trimadapters.py script\n",
    "if 'trimadapter.log' not in os.listdir('rnaseq'):\n",
    "    print(\"Running trimadapters.py...\")\n",
    "    os.system(f\"../tRAX/trimadapters.py \\\n",
    "            --runname='trimming' \\\n",
    "            --runfile='config/runfile.tsv' \\\n",
    "            --cores={cpuThreads} \\\n",
    "            > rnaseq/trimadapter.log 2>&1\")\n",
    "    # Move the log files to the rnaseq directory\n",
    "    print(\"Moving log files to rnaseq directory...\")\n",
    "    os.system(f\"mv trimindex.txt rnaseq/trimindex.txt\")\n",
    "    os.system(f\"mv trimming_log.txt rnaseq/trimming_log.txt\")\n",
    "    os.system(f\"mv trimming_manifest.txt rnaseq/trimming_manifest.txt\")\n",
    "    os.system(f\"mv trimming_sp.pdf rnaseq/trimming_sp.pdf\")\n",
    "    os.system(f\"mv trimming_sp.txt rnaseq/trimming_sp.txt\")\n",
    "else:\n",
    "    print(\"trimadapter.log already exists\")\n",
    "\n",
    "print(\"Done.\")"
   ]
  },
  {
   "cell_type": "markdown",
   "metadata": {},
   "source": [
    "# 3. Run tRAX on the trimmed reads"
   ]
  },
  {
   "cell_type": "code",
   "execution_count": null,
   "metadata": {},
   "outputs": [],
   "source": [
    "# Make directory for tRAX output\n",
    "os.makedirs('trax', exist_ok=True)\n",
    "\n",
    "def run_trax(experimentname, samplefile, exppairs, gtffile, makehub=False):\n",
    "    if makehub:\n",
    "        makehub = \"--makehub\"\n",
    "    else:\n",
    "        makehub = \"\"\n",
    "    # Run the processsamples.py script\n",
    "    if f'{experimentname}.log' not in os.listdir('trax'):\n",
    "        print(\"Running processsamples.py...\")\n",
    "        os.system(f\"../tRAX/processsamples.py \\\n",
    "                --experimentname='{experimentname}' \\\n",
    "                --databasename='../rnadb/hg38.p14' \\\n",
    "                --ensemblgtf='{gtffile}' \\\n",
    "                --samplefile='{samplefile}' \\\n",
    "                --exppairs='{exppairs}' \\\n",
    "                --cores={cpuThreads} \\\n",
    "                {makehub} \\\n",
    "                --lazyremap \\\n",
    "                > {experimentname}.log 2>&1\")\n",
    "        # Move the log files to the trax directory\n",
    "        os.system(f\"mv mismatchcompare.txt {experimentname}/mismatchcompare.txt\")\n",
    "        os.system(f\"mv positiondeletions.txt {experimentname}/positiondeletions.txt\")\n",
    "        os.system(f\"mv positionmismatches.txt {experimentname}/positionmismatches.txt\")\n",
    "        os.system(f\"mv Rlog-{experimentname}.txt {experimentname}/Rlog-{experimentname}.txt\")\n",
    "        os.system(f\"mv Rplots.pdf {experimentname}/Rplots.pdf\")\n",
    "        # Move the experiment directory to the trax directory\n",
    "        os.system(f\"rm -rf trax/{experimentname}\")\n",
    "        os.system(f\"mv {experimentname} trax/{experimentname}\")\n",
    "        # Move the log file to the trax directory\n",
    "        os.system(f\"mv {experimentname}.log trax/{experimentname}.log\")\n",
    "    else:\n",
    "        print(f\"{experimentname}.log already exists\")\n",
    "    print(\"Done.\")"
   ]
  },
  {
   "cell_type": "markdown",
   "metadata": {},
   "source": [
    "Perform it on the ARM-seq data"
   ]
  },
  {
   "cell_type": "code",
   "execution_count": null,
   "metadata": {},
   "outputs": [],
   "source": [
    "df_samples = pd.read_csv('config/samples.arm.tsv', sep='\\t', header=None)\n",
    "df_samples.columns = ['sample', 'group', 'fastq']\n",
    "df_samples"
   ]
  },
  {
   "cell_type": "code",
   "execution_count": null,
   "metadata": {},
   "outputs": [],
   "source": [
    "df_pairs = pd.read_csv('config/pairs.arm.tsv', sep='\\t', header=None)\n",
    "df_pairs.columns = ['group1', 'group2']\n",
    "df_pairs"
   ]
  },
  {
   "cell_type": "code",
   "execution_count": null,
   "metadata": {},
   "outputs": [],
   "source": [
    "run_trax('arm.smallncRNAs', 'config/samples.arm.tsv', 'config/pairs.arm.tsv', 'supplemental/hg38_small_ncRNAs.gtf', makehub=True)\n",
    "run_trax('arm.tRNAsonly', 'config/samples.arm.tsv', 'config/pairs.arm.tsv', 'supplemental/empty.gtf')"
   ]
  },
  {
   "cell_type": "markdown",
   "metadata": {},
   "source": [
    "# 4. Cleanup\n",
    "\n",
    "- Move the BAM files to `rnaseq/bam` and the tRAX bigWig files to `rnaseq/bigwig`\n",
    "  - If you need to regenerate tRAX files you should move the bam files back to the root of this project directory as they can take a long time to generate\n",
    "- Generate the MD5 checksums for the processed files for GEO"
   ]
  },
  {
   "cell_type": "code",
   "execution_count": null,
   "metadata": {},
   "outputs": [],
   "source": [
    "# os.system(\"cp -r rnaseq/bam/* .\")"
   ]
  },
  {
   "cell_type": "code",
   "execution_count": null,
   "metadata": {},
   "outputs": [],
   "source": [
    "print(\"Moving files to rnaseq directory...\")\n",
    "# Make directory for the RNAseq output\n",
    "os.makedirs('rnaseq/bam', exist_ok=True)\n",
    "os.system(\"rm -rf rnaseq/bigwig\")\n",
    "os.makedirs('rnaseq/bigwig', exist_ok=True)\n",
    "# Move the BAM files to the rnaseq directory\n",
    "os.system(\"mv *.bam rnaseq/bam/.\")\n",
    "os.system(\"mv *.bai rnaseq/bam/.\")\n",
    "# Move the bigWig files to the rnaseq directory\n",
    "os.system(\"cp -r trax/arm.smallncRNAs/trackhub/*.bw rnaseq/bigwig/.\")"
   ]
  },
  {
   "cell_type": "code",
   "execution_count": null,
   "metadata": {},
   "outputs": [],
   "source": [
    "print(\"Creating md5sums...\")\n",
    "os.system('md5sum rnaseq/fastq_raw/* > rnaseq/md5sums_raw.txt')\n",
    "os.system('md5sum rnaseq/bigwig/* > rnaseq/md5sums_bigwig.txt')"
   ]
  }
 ],
 "metadata": {
  "kernelspec": {
   "display_name": "Python 3 (ipykernel)",
   "language": "python",
   "name": "python3"
  },
  "language_info": {
   "codemirror_mode": {
    "name": "ipython",
    "version": 3
   },
   "file_extension": ".py",
   "mimetype": "text/x-python",
   "name": "python",
   "nbconvert_exporter": "python",
   "pygments_lexer": "ipython3",
   "version": "3.10.13"
  }
 },
 "nbformat": 4,
 "nbformat_minor": 4
}
